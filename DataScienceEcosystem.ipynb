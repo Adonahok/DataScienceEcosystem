{
 "cells": [
  {
   "cell_type": "markdown",
   "id": "3878650c",
   "metadata": {},
   "source": [
    "# Data Science Tools and Ecosystem"
   ]
  },
  {
   "cell_type": "markdown",
   "id": "d324ca52",
   "metadata": {},
   "source": [
    "## Author\n",
    "Cody Estes"
   ]
  },
  {
   "cell_type": "markdown",
   "id": "a04259ea",
   "metadata": {},
   "source": [
    "In this notebook, Data Science Tools and Ecosystem are summarized"
   ]
  },
  {
   "cell_type": "markdown",
   "id": "1a7cf9de",
   "metadata": {},
   "source": [
    "**Objectives:**\n",
    "\n",
    "- List popular languages for Data Scientists\n",
    "- List commonly used libraries for Data Scientists\n",
    "- List common and popular Data Science Tools for Data Scientists\n",
    "- Evaluate simple arithmetic expressions"
   ]
  },
  {
   "cell_type": "markdown",
   "id": "5d63328c",
   "metadata": {},
   "source": [
    "Some of the popular languages that Data Scientists use are:\n",
    "\n",
    "1. Python\n",
    "2. R\n",
    "3. SQL\n",
    "4. C++\n",
    "5. Scala\n",
    "6. Matlab\n",
    "7. Java"
   ]
  },
  {
   "cell_type": "markdown",
   "id": "dca4b63d",
   "metadata": {},
   "source": [
    "Some of the commonly used libraries used by Data Scientists include:\n",
    "\n",
    "1. Pandas\n",
    "2. PyTorch\n",
    "3. NumPy\n",
    "4. Seaborn\n",
    "5. SciPy\n",
    "6. Plotly"
   ]
  },
  {
   "cell_type": "markdown",
   "id": "9a9386ba",
   "metadata": {},
   "source": [
    "| Data Science Tools |\n",
    "| :---: |\n",
    "| RStudio |\n",
    "| Jupyter |\n",
    "| GitLab |\n",
    "| Tableau |\n",
    "| SSMS |\n",
    "| Eclipse |\n",
    "| VSCode |"
   ]
  },
  {
   "cell_type": "markdown",
   "id": "2812ff63",
   "metadata": {},
   "source": [
    "### Below are a few examples of evaluating arithmetic expressions in Python."
   ]
  },
  {
   "cell_type": "code",
   "execution_count": 13,
   "id": "e7e76682",
   "metadata": {},
   "outputs": [
    {
     "data": {
      "text/plain": [
       "17"
      ]
     },
     "execution_count": 13,
     "metadata": {},
     "output_type": "execute_result"
    }
   ],
   "source": [
    "# This is a simple arithmetic expression to multiply then add integers\n",
    "(3*4)+5"
   ]
  },
  {
   "cell_type": "code",
   "execution_count": 14,
   "id": "2210f88b",
   "metadata": {},
   "outputs": [
    {
     "name": "stdout",
     "output_type": "stream",
     "text": [
      "200 minutes is 3.33 Hours\n"
     ]
    }
   ],
   "source": [
    "# This will convert 200 minutes to hours by dividing by 60.\n",
    "\n",
    "i = round(200/60, 2)\n",
    "print(\"200 minutes is \" + str(i) + \" Hours\")"
   ]
  },
  {
   "cell_type": "code",
   "execution_count": null,
   "id": "d8240247",
   "metadata": {},
   "outputs": [],
   "source": []
  }
 ],
 "metadata": {
  "kernelspec": {
   "display_name": "Python 3 (ipykernel)",
   "language": "python",
   "name": "python3"
  },
  "language_info": {
   "codemirror_mode": {
    "name": "ipython",
    "version": 3
   },
   "file_extension": ".py",
   "mimetype": "text/x-python",
   "name": "python",
   "nbconvert_exporter": "python",
   "pygments_lexer": "ipython3",
   "version": "3.11.5"
  }
 },
 "nbformat": 4,
 "nbformat_minor": 5
}
